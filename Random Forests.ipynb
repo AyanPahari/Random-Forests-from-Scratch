{
 "cells": [
  {
   "cell_type": "markdown",
   "id": "311e1b73",
   "metadata": {},
   "source": [
    "# 4. (a) Random Forests Algorithm from Scratch"
   ]
  },
  {
   "cell_type": "markdown",
   "id": "f1dfe4f7",
   "metadata": {},
   "source": [
    "### Importing all the necessary libraries"
   ]
  },
  {
   "cell_type": "code",
   "execution_count": 1,
   "id": "f2938a6a",
   "metadata": {},
   "outputs": [],
   "source": [
    "#importing all the necessary libraries\n",
    "import numpy as np\n",
    "import pandas as pd\n",
    "import matplotlib.pyplot as plt\n",
    "import seaborn as sns\n",
    "import random\n",
    "from pprint import pprint\n",
    "import statistics\n",
    "from sklearn.model_selection import train_test_split\n",
    "from sklearn.model_selection import train_test_split\n",
    "from sklearn.ensemble import RandomForestClassifier\n",
    "from sklearn.metrics import classification_report,plot_confusion_matrix,accuracy_score\n",
    "import time\n",
    "\n",
    "import warnings\n",
    "warnings.filterwarnings(\"ignore\")"
   ]
  },
  {
   "cell_type": "markdown",
   "id": "9addfab0",
   "metadata": {},
   "source": [
    "### Loading the data"
   ]
  },
  {
   "cell_type": "code",
   "execution_count": 2,
   "id": "e400fddd",
   "metadata": {},
   "outputs": [
    {
     "data": {
      "text/html": [
       "<div>\n",
       "<style scoped>\n",
       "    .dataframe tbody tr th:only-of-type {\n",
       "        vertical-align: middle;\n",
       "    }\n",
       "\n",
       "    .dataframe tbody tr th {\n",
       "        vertical-align: top;\n",
       "    }\n",
       "\n",
       "    .dataframe thead th {\n",
       "        text-align: right;\n",
       "    }\n",
       "</style>\n",
       "<table border=\"1\" class=\"dataframe\">\n",
       "  <thead>\n",
       "    <tr style=\"text-align: right;\">\n",
       "      <th></th>\n",
       "      <th>0</th>\n",
       "      <th>1</th>\n",
       "      <th>2</th>\n",
       "      <th>3</th>\n",
       "      <th>4</th>\n",
       "      <th>5</th>\n",
       "      <th>6</th>\n",
       "      <th>7</th>\n",
       "      <th>8</th>\n",
       "      <th>9</th>\n",
       "      <th>...</th>\n",
       "      <th>48</th>\n",
       "      <th>49</th>\n",
       "      <th>50</th>\n",
       "      <th>51</th>\n",
       "      <th>52</th>\n",
       "      <th>53</th>\n",
       "      <th>54</th>\n",
       "      <th>55</th>\n",
       "      <th>56</th>\n",
       "      <th>57</th>\n",
       "    </tr>\n",
       "  </thead>\n",
       "  <tbody>\n",
       "    <tr>\n",
       "      <th>0</th>\n",
       "      <td>0.00</td>\n",
       "      <td>0.64</td>\n",
       "      <td>0.64</td>\n",
       "      <td>0.0</td>\n",
       "      <td>0.32</td>\n",
       "      <td>0.00</td>\n",
       "      <td>0.00</td>\n",
       "      <td>0.00</td>\n",
       "      <td>0.00</td>\n",
       "      <td>0.00</td>\n",
       "      <td>...</td>\n",
       "      <td>0.00</td>\n",
       "      <td>0.000</td>\n",
       "      <td>0.0</td>\n",
       "      <td>0.778</td>\n",
       "      <td>0.000</td>\n",
       "      <td>0.000</td>\n",
       "      <td>3.756</td>\n",
       "      <td>61</td>\n",
       "      <td>278</td>\n",
       "      <td>1</td>\n",
       "    </tr>\n",
       "    <tr>\n",
       "      <th>1</th>\n",
       "      <td>0.21</td>\n",
       "      <td>0.28</td>\n",
       "      <td>0.50</td>\n",
       "      <td>0.0</td>\n",
       "      <td>0.14</td>\n",
       "      <td>0.28</td>\n",
       "      <td>0.21</td>\n",
       "      <td>0.07</td>\n",
       "      <td>0.00</td>\n",
       "      <td>0.94</td>\n",
       "      <td>...</td>\n",
       "      <td>0.00</td>\n",
       "      <td>0.132</td>\n",
       "      <td>0.0</td>\n",
       "      <td>0.372</td>\n",
       "      <td>0.180</td>\n",
       "      <td>0.048</td>\n",
       "      <td>5.114</td>\n",
       "      <td>101</td>\n",
       "      <td>1028</td>\n",
       "      <td>1</td>\n",
       "    </tr>\n",
       "    <tr>\n",
       "      <th>2</th>\n",
       "      <td>0.06</td>\n",
       "      <td>0.00</td>\n",
       "      <td>0.71</td>\n",
       "      <td>0.0</td>\n",
       "      <td>1.23</td>\n",
       "      <td>0.19</td>\n",
       "      <td>0.19</td>\n",
       "      <td>0.12</td>\n",
       "      <td>0.64</td>\n",
       "      <td>0.25</td>\n",
       "      <td>...</td>\n",
       "      <td>0.01</td>\n",
       "      <td>0.143</td>\n",
       "      <td>0.0</td>\n",
       "      <td>0.276</td>\n",
       "      <td>0.184</td>\n",
       "      <td>0.010</td>\n",
       "      <td>9.821</td>\n",
       "      <td>485</td>\n",
       "      <td>2259</td>\n",
       "      <td>1</td>\n",
       "    </tr>\n",
       "    <tr>\n",
       "      <th>3</th>\n",
       "      <td>0.00</td>\n",
       "      <td>0.00</td>\n",
       "      <td>0.00</td>\n",
       "      <td>0.0</td>\n",
       "      <td>0.63</td>\n",
       "      <td>0.00</td>\n",
       "      <td>0.31</td>\n",
       "      <td>0.63</td>\n",
       "      <td>0.31</td>\n",
       "      <td>0.63</td>\n",
       "      <td>...</td>\n",
       "      <td>0.00</td>\n",
       "      <td>0.137</td>\n",
       "      <td>0.0</td>\n",
       "      <td>0.137</td>\n",
       "      <td>0.000</td>\n",
       "      <td>0.000</td>\n",
       "      <td>3.537</td>\n",
       "      <td>40</td>\n",
       "      <td>191</td>\n",
       "      <td>1</td>\n",
       "    </tr>\n",
       "    <tr>\n",
       "      <th>4</th>\n",
       "      <td>0.00</td>\n",
       "      <td>0.00</td>\n",
       "      <td>0.00</td>\n",
       "      <td>0.0</td>\n",
       "      <td>0.63</td>\n",
       "      <td>0.00</td>\n",
       "      <td>0.31</td>\n",
       "      <td>0.63</td>\n",
       "      <td>0.31</td>\n",
       "      <td>0.63</td>\n",
       "      <td>...</td>\n",
       "      <td>0.00</td>\n",
       "      <td>0.135</td>\n",
       "      <td>0.0</td>\n",
       "      <td>0.135</td>\n",
       "      <td>0.000</td>\n",
       "      <td>0.000</td>\n",
       "      <td>3.537</td>\n",
       "      <td>40</td>\n",
       "      <td>191</td>\n",
       "      <td>1</td>\n",
       "    </tr>\n",
       "  </tbody>\n",
       "</table>\n",
       "<p>5 rows × 58 columns</p>\n",
       "</div>"
      ],
      "text/plain": [
       "     0     1     2    3     4     5     6     7     8     9   ...    48  \\\n",
       "0  0.00  0.64  0.64  0.0  0.32  0.00  0.00  0.00  0.00  0.00  ...  0.00   \n",
       "1  0.21  0.28  0.50  0.0  0.14  0.28  0.21  0.07  0.00  0.94  ...  0.00   \n",
       "2  0.06  0.00  0.71  0.0  1.23  0.19  0.19  0.12  0.64  0.25  ...  0.01   \n",
       "3  0.00  0.00  0.00  0.0  0.63  0.00  0.31  0.63  0.31  0.63  ...  0.00   \n",
       "4  0.00  0.00  0.00  0.0  0.63  0.00  0.31  0.63  0.31  0.63  ...  0.00   \n",
       "\n",
       "      49   50     51     52     53     54   55    56  57  \n",
       "0  0.000  0.0  0.778  0.000  0.000  3.756   61   278   1  \n",
       "1  0.132  0.0  0.372  0.180  0.048  5.114  101  1028   1  \n",
       "2  0.143  0.0  0.276  0.184  0.010  9.821  485  2259   1  \n",
       "3  0.137  0.0  0.137  0.000  0.000  3.537   40   191   1  \n",
       "4  0.135  0.0  0.135  0.000  0.000  3.537   40   191   1  \n",
       "\n",
       "[5 rows x 58 columns]"
      ]
     },
     "execution_count": 2,
     "metadata": {},
     "output_type": "execute_result"
    }
   ],
   "source": [
    "df=pd.read_csv('https://web.stanford.edu/~hastie/ElemStatLearn//datasets/spam.data',sep=\" \",header=None)\n",
    "df.head()"
   ]
  },
  {
   "cell_type": "markdown",
   "id": "c34e5547",
   "metadata": {},
   "source": [
    "### Old Decision Tree code that we will be reusing in the Random Forests Implementation"
   ]
  },
  {
   "cell_type": "code",
   "execution_count": 3,
   "id": "37a022cd",
   "metadata": {},
   "outputs": [],
   "source": [
    "def purity_check(data):\n",
    "    \n",
    "    return len(np.unique(data[:, -1])) == 1\n",
    "\n",
    "def get_class(data):\n",
    "    \n",
    "    uni_class, counts_uni_class = np.unique(data[:, -1], return_counts=True) #returns the unique classes as well as their counts\n",
    "    if(len(counts_uni_class)) == 0:\n",
    "        return 0\n",
    "    else:\n",
    "        return uni_class[counts_uni_class.argmax()] #returns the class with majority count\n",
    "\n",
    "def get_potential_splits(data,max_features):\n",
    "    \n",
    "    pot_spl = dict()\n",
    "    rows , cols = data.shape\n",
    "    \n",
    "    col_indices = list(range(cols - 1)) # excluding the last column as it as label\n",
    "    random_cols = random.sample(population=col_indices, k=max_features)\n",
    "    for ind in random_cols:          \n",
    "        pot_spl[ind] = np.unique(data[:, ind])\n",
    "    \n",
    "    return pot_spl #returns the potential splits\n",
    "\n",
    "def split(data, col, val):\n",
    "    #splits the data on the basis of particular column and value\n",
    "    left_split = data[data[:, col] <= val] #data with values less \n",
    "    right_split = data[data[:, col] >  val] #data with values more\n",
    "    \n",
    "    return left_split, right_split\n",
    "\n",
    "\n",
    "def calc_entropy(data):\n",
    "    \n",
    "    classes , counts = np.unique(data[:, -1], return_counts=True)\n",
    "    prob = counts / counts.sum() #calc prob for each of the unique classes\n",
    "    entropy = sum(prob * -np.log2(prob)) #entropy calc formula\n",
    "     \n",
    "    return entropy\n",
    "\n",
    "def calculate_info_gain_entropy(left_split, right_split ,uncertainity):\n",
    "    \n",
    "    total=len(left_split) + len(right_split) #total number of records\n",
    "    #calc prob for the splits\n",
    "    prob_left = len(left_split) / total\n",
    "    prob_right = len(right_split) / total\n",
    "\n",
    "    return uncertainity -  (prob_left * calc_entropy(left_split) + prob_right * calc_entropy(right_split))\n",
    "\n",
    "def find_best_split(data, pot_spl):\n",
    "    \n",
    "    uncertainity=calc_entropy(data)\n",
    "    best_col=0\n",
    "    best_val=0\n",
    "        \n",
    "    overall_info_gain = 0\n",
    "    for col in pot_spl:\n",
    "        for val in pot_spl[col]:\n",
    "            left_split, right_split = split(data, col, val)\n",
    "            current_info_gain = calculate_info_gain_entropy(left_split, right_split, uncertainity)\n",
    "\n",
    "            if current_info_gain > overall_info_gain:\n",
    "                overall_info_gain = current_info_gain\n",
    "                best_col = col\n",
    "                best_val = val\n",
    "    \n",
    "    return best_col, best_val\n",
    "\n",
    "column_names = df.columns\n",
    "\n",
    "def decision_tree_algorithm(df, count=0, threshold=2, max_depth=20,max_features=None):\n",
    "    \n",
    "    data = df\n",
    "    if count == 0:\n",
    "        data = df.values         \n",
    "    \n",
    "    # base case\n",
    "    if (purity_check(data) | (len(data) < threshold) | (count == max_depth)): #if data is pure, threshold is reached or max_depth reached\n",
    "        return get_class(data)\n",
    "  \n",
    "    count += 1 #incrementing the counter\n",
    "    \n",
    "    #determining the left and right split using the best split possible\n",
    "    pot_spl = get_potential_splits(data,max_features)\n",
    "    col, val = find_best_split(data, pot_spl)\n",
    "    left_split, right_split = split(data, col, val)\n",
    "        \n",
    "        # check for empty splits\n",
    "    if len(left_split) == len(right_split) == 0:\n",
    "        return get_class(data)\n",
    "        \n",
    "        # determine the question\n",
    "    attribute = column_names[col]\n",
    "    ques = f'{attribute} <= {val}'\n",
    "        \n",
    "        # recursive calls\n",
    "    success = decision_tree_algorithm(left_split,count, threshold, max_depth,max_features)\n",
    "    failure = decision_tree_algorithm(right_split,count, threshold, max_depth,max_features)\n",
    "    \n",
    "     # subtree structure\n",
    "    node = {ques: []}\n",
    "    \n",
    "    if success == failure:\n",
    "        node = failure\n",
    "    else:\n",
    "        node[ques].append(success)\n",
    "        node[ques].append(failure)\n",
    "        \n",
    "    return node\n",
    "\n",
    "\n",
    "def classification(eg, tree):\n",
    "    \n",
    "    if not isinstance(tree, dict):\n",
    "        return tree\n",
    "    \n",
    "    ques = list(tree.keys())[0]\n",
    "    attribute , comparison_operator, val = ques.split()\n",
    "\n",
    "    if eg[int(attribute)] <= float(val):\n",
    "        res = tree[ques][0]\n",
    "    else:\n",
    "        res = tree[ques][1]\n",
    "\n",
    "    return classification(eg, res)"
   ]
  },
  {
   "cell_type": "markdown",
   "id": "46eef287",
   "metadata": {},
   "source": [
    "### Code for the Random Forests Implementation"
   ]
  },
  {
   "cell_type": "code",
   "execution_count": 4,
   "id": "d83e8e57",
   "metadata": {},
   "outputs": [],
   "source": [
    "def perform_bootstrap(train_df,size):\n",
    "    \n",
    "    return train_df.iloc[np.random.randint(0,len(train_df),round(size * len(train_df)))]\n",
    "\n",
    "def random_forest_algo(train_df,num_trees,bootstrap,max_feat,depth):\n",
    "    forest = []\n",
    "    for x in range(num_trees):\n",
    "        boot_data = perform_bootstrap(train_df,bootstrap)\n",
    "        tree = decision_tree_algorithm(boot_data, max_depth=depth, max_features=max_feat)\n",
    "        forest.append(tree)\n",
    "    return forest\n",
    "\n",
    "def calculate_oob_scores(train_df,n_trees,nbootstrap,max_features,max_depth):\n",
    "    oob_scores = []\n",
    "    for x in range(n_trees):\n",
    "        left_over = set()\n",
    "        boot_data = perform_bootstrap(train_df,nbootstrap)\n",
    "        left_over = set(train_df.index.tolist()) - set(boot_data.index.tolist())\n",
    "        left_over = list(left_over)\n",
    "        \n",
    "        forest = random_forest_algo(boot_data,num_trees=n_trees,bootstrap=nbootstrap,max_feat=max_features,depth=max_depth)\n",
    "        pred = rf_predictions(train_df.loc[left_over].drop(57,axis=1),forest)\n",
    "        acc = rf_calculate_accuracy(train_df.loc[left_over],pred)\n",
    "        oob_scores.append(acc)\n",
    "        \n",
    "    return oob_scores\n",
    "\n",
    "def rf_predictions(test_df,forest):\n",
    "    \n",
    "    prediction = []\n",
    "    for rows in range(len(test_df)):\n",
    "        classify = []\n",
    "        for trees in range(len(forest)):\n",
    "            classify.append(classification(test_df.iloc[rows],forest[trees]))\n",
    "        prediction.append(statistics.mode(classify))\n",
    "    \n",
    "    return prediction\n",
    "\n",
    "def rf_calculate_accuracy(test_df, pred):\n",
    "\n",
    "    test_df[\"predictions\"] = pred\n",
    "    test_df[\"comparison\"] = test_df[\"predictions\"] == test_df[57]\n",
    "    \n",
    "    return test_df[\"comparison\"].mean()"
   ]
  },
  {
   "cell_type": "markdown",
   "id": "c9794c8b",
   "metadata": {},
   "source": [
    "### Train Test Split using Sklearn"
   ]
  },
  {
   "cell_type": "code",
   "execution_count": 5,
   "id": "3ed09c40",
   "metadata": {},
   "outputs": [],
   "source": [
    "train_df, test_df = train_test_split(df, test_size=0.3, random_state=101)"
   ]
  },
  {
   "cell_type": "markdown",
   "id": "d39ed8ae",
   "metadata": {},
   "source": [
    "### Using GridSearchCV to decide upon the optimal parameters for the Random Forests Algorithm"
   ]
  },
  {
   "cell_type": "code",
   "execution_count": 6,
   "id": "a222de5e",
   "metadata": {},
   "outputs": [],
   "source": [
    "#code for grid searchCV which I used to decide upon the opimal parameters for the random forests algorithm\n",
    "#Please do not run this code as I took almost 6 hrs on my system \n",
    "\n",
    "# start_time = time.time()\n",
    "# from sklearn.model_selection import GridSearchCV\n",
    "\n",
    "# rfc = RandomForestClassifier()\n",
    "\n",
    "# n_estimators = [int(x) for x in range(10,101,10)]\n",
    "# max_features = ['sqrt','log2',5,10,15,20,25,30,35,40,45,50,55]\n",
    "# max_depth = [None,5,10,15,20]\n",
    "# min_samples_split = [2, 3, 5]\n",
    "# bootstrap = [True, False]\n",
    "# max_samples = [0.1,0.2,0.3,0.4,0.5,0.6,0.7,0.8,0.9]\n",
    "\n",
    "# param_grid = {'n_estimators': n_estimators,\n",
    "#                'max_features': max_features,\n",
    "#                'max_depth': max_depth,\n",
    "#                'min_samples_split': min_samples_split,\n",
    "#                'max_samples': max_samples,\n",
    "#                'bootstrap': bootstrap}\n",
    "\n",
    "# grid_model = GridSearchCV(estimator = rfc, param_grid = param_grid, cv = 2,verbose = 2)\n",
    "\n",
    "# grid_model.fit(X_train,y_train)\n",
    "# grid_model.best_params_\n",
    "\n",
    "# end_time=time.time()\n",
    "# print(\"Time Taken: {}\".format(round(end_time-start_time,3)))"
   ]
  },
  {
   "cell_type": "markdown",
   "id": "ae985564",
   "metadata": {},
   "source": [
    "### Checking the Test Accuracy and Time Taken(secs) of our Random Forests Implementation"
   ]
  },
  {
   "cell_type": "code",
   "execution_count": 7,
   "id": "943a4c76",
   "metadata": {},
   "outputs": [
    {
     "name": "stdout",
     "output_type": "stream",
     "text": [
      "Test Accuracy: 94.5691527878349 %\n",
      "Time Taken: 379.75 secs\n"
     ]
    }
   ],
   "source": [
    "#Took about 5 mins to run on my system\n",
    "start_time = time.time()\n",
    "\n",
    "forest = random_forest_algo(train_df,num_trees=100,bootstrap=0.80,max_feat=5,depth=20)\n",
    "pred = rf_predictions(test_df.drop(57,axis=1),forest)\n",
    "acc = rf_calculate_accuracy(test_df,pred)*100\n",
    "\n",
    "end_time=time.time()\n",
    "\n",
    "print(\"Test Accuracy: {} %\".format(acc))\n",
    "print(\"Time Taken: {} secs\".format(round(end_time-start_time,3)))"
   ]
  },
  {
   "cell_type": "markdown",
   "id": "7031f7bf",
   "metadata": {},
   "source": [
    "### Checking Test Accuracy using Sklearn's RandomForestClassifier"
   ]
  },
  {
   "cell_type": "code",
   "execution_count": 8,
   "id": "22ec067b",
   "metadata": {},
   "outputs": [
    {
     "name": "stdout",
     "output_type": "stream",
     "text": [
      "Test Accuracy: 95.1484431571325 %\n",
      "Time Taken: 1.0 secs\n"
     ]
    }
   ],
   "source": [
    "X = df.drop(57,axis=1)\n",
    "y = df[57]\n",
    "\n",
    "X_train, X_test, y_train, y_test = train_test_split(X, y, test_size=0.30, random_state=101)\n",
    "\n",
    "start_time = time.time()\n",
    "\n",
    "rfc = RandomForestClassifier(n_estimators=100,max_features=5,max_depth=20,bootstrap=False,\n",
    "                             max_samples=0.8,criterion='entropy',min_samples_split=3)\n",
    "rfc.fit(X_train,y_train)\n",
    "preds=rfc.predict(X_test)\n",
    "acc = accuracy_score(preds,y_test)*100\n",
    "\n",
    "end_time=time.time()\n",
    "\n",
    "print(\"Test Accuracy: {} %\".format(acc))\n",
    "print(\"Time Taken: {} secs\".format(round(end_time-start_time,3)))"
   ]
  },
  {
   "cell_type": "markdown",
   "id": "d1962c2d",
   "metadata": {},
   "source": [
    "# 5. (b) Sensitivity of Random Forests to the parameter m (Our Implementation of Random Forests)"
   ]
  },
  {
   "cell_type": "markdown",
   "id": "fa5933e7",
   "metadata": {},
   "source": [
    "### Here due to Computation Infeasibility we are limiting the number of trees and depth to 10 (on full depth and 100 trees it takes hours to plot the behaviour) but that doesn't affect the sensitivity of Random Forests but accuracy of the model does get affected"
   ]
  },
  {
   "cell_type": "code",
   "execution_count": 9,
   "id": "48f2d1fd",
   "metadata": {},
   "outputs": [
    {
     "name": "stdout",
     "output_type": "stream",
     "text": [
      "Time Taken: 890.746 secs\n"
     ]
    },
    {
     "data": {
      "image/png": "[encoded data removed]",
      "text/plain": [
       "<Figure size 432x288 with 1 Axes>"
      ]
     },
     "metadata": {
      "needs_background": "light"
     },
     "output_type": "display_data"
    }
   ],
   "source": [
    "#Took about 15 mins to run on my system\n",
    "\n",
    "start_time = time.time()\n",
    "errors=[]\n",
    "range_m = [2,4,6,8,10,15,20,30,40,50]\n",
    "\n",
    "for m in range_m:\n",
    "    forest = random_forest_algo(train_df,num_trees=10,bootstrap=0.80,max_feat=m,depth=10)\n",
    "    pred = rf_predictions(test_df.drop(57,axis=1),forest)\n",
    "    errors.append(1-rf_calculate_accuracy(test_df,pred))\n",
    "\n",
    "end_time=time.time()\n",
    "print(\"Time Taken: {} secs\".format(round(end_time-start_time,3)))\n",
    "\n",
    "plt.plot(range_m,errors)\n",
    "plt.xlabel('Parameter m')\n",
    "plt.ylabel('Test Error')\n",
    "plt.show()"
   ]
  },
  {
   "cell_type": "code",
   "execution_count": 10,
   "id": "dda8f27b",
   "metadata": {},
   "outputs": [
    {
     "data": {
      "text/html": [
       "<div>\n",
       "<style scoped>\n",
       "    .dataframe tbody tr th:only-of-type {\n",
       "        vertical-align: middle;\n",
       "    }\n",
       "\n",
       "    .dataframe tbody tr th {\n",
       "        vertical-align: top;\n",
       "    }\n",
       "\n",
       "    .dataframe thead th {\n",
       "        text-align: right;\n",
       "    }\n",
       "</style>\n",
       "<table border=\"1\" class=\"dataframe\">\n",
       "  <thead>\n",
       "    <tr style=\"text-align: right;\">\n",
       "      <th></th>\n",
       "      <th>Number of Features</th>\n",
       "      <th>Test Error(%)</th>\n",
       "    </tr>\n",
       "  </thead>\n",
       "  <tbody>\n",
       "    <tr>\n",
       "      <th>0</th>\n",
       "      <td>2</td>\n",
       "      <td>8.689356</td>\n",
       "    </tr>\n",
       "    <tr>\n",
       "      <th>1</th>\n",
       "      <td>4</td>\n",
       "      <td>8.327299</td>\n",
       "    </tr>\n",
       "    <tr>\n",
       "      <th>2</th>\n",
       "      <td>6</td>\n",
       "      <td>6.082549</td>\n",
       "    </tr>\n",
       "    <tr>\n",
       "      <th>3</th>\n",
       "      <td>8</td>\n",
       "      <td>8.544533</td>\n",
       "    </tr>\n",
       "    <tr>\n",
       "      <th>4</th>\n",
       "      <td>10</td>\n",
       "      <td>6.517017</td>\n",
       "    </tr>\n",
       "    <tr>\n",
       "      <th>5</th>\n",
       "      <td>15</td>\n",
       "      <td>7.168718</td>\n",
       "    </tr>\n",
       "    <tr>\n",
       "      <th>6</th>\n",
       "      <td>20</td>\n",
       "      <td>6.879073</td>\n",
       "    </tr>\n",
       "    <tr>\n",
       "      <th>7</th>\n",
       "      <td>30</td>\n",
       "      <td>7.168718</td>\n",
       "    </tr>\n",
       "    <tr>\n",
       "      <th>8</th>\n",
       "      <td>40</td>\n",
       "      <td>6.661839</td>\n",
       "    </tr>\n",
       "    <tr>\n",
       "      <th>9</th>\n",
       "      <td>50</td>\n",
       "      <td>7.096307</td>\n",
       "    </tr>\n",
       "  </tbody>\n",
       "</table>\n",
       "</div>"
      ],
      "text/plain": [
       "   Number of Features  Test Error(%)\n",
       "0                   2       8.689356\n",
       "1                   4       8.327299\n",
       "2                   6       6.082549\n",
       "3                   8       8.544533\n",
       "4                  10       6.517017\n",
       "5                  15       7.168718\n",
       "6                  20       6.879073\n",
       "7                  30       7.168718\n",
       "8                  40       6.661839\n",
       "9                  50       7.096307"
      ]
     },
     "execution_count": 10,
     "metadata": {},
     "output_type": "execute_result"
    }
   ],
   "source": [
    "test_error = errors\n",
    "test_error = [100*x for x in test_error]\n",
    "sensitivity = pd.DataFrame(index = range_m,data = test_error, columns = ['Test Error'])\n",
    "modified = sensitivity.reset_index()\n",
    "modified.columns = ['Number of Features','Test Error(%)']\n",
    "modified"
   ]
  },
  {
   "cell_type": "markdown",
   "id": "e46a3bca",
   "metadata": {},
   "source": [
    "# Sensitivity of Random Forests to the parameter m (Sklearn's RandomForestClassifier)"
   ]
  },
  {
   "cell_type": "code",
   "execution_count": 11,
   "id": "fd629186",
   "metadata": {},
   "outputs": [
    {
     "name": "stdout",
     "output_type": "stream",
     "text": [
      "Time Taken: 1.525 secs\n"
     ]
    },
    {
     "data": {
      "image/png": "[encoded data removed]",
      "text/plain": [
       "<Figure size 432x288 with 1 Axes>"
      ]
     },
     "metadata": {
      "needs_background": "light"
     },
     "output_type": "display_data"
    }
   ],
   "source": [
    "start_time = time.time()\n",
    "errors=[]\n",
    "range_m = [2,4,6,8,10,15,20,30,40,50]\n",
    "\n",
    "for m in range_m:\n",
    "    rfc=RandomForestClassifier(n_estimators=10,max_features=m,max_depth=10,bootstrap=True,max_samples=0.8,criterion='entropy')\n",
    "    rfc.fit(X_train,y_train)\n",
    "    pred = rfc.predict(X_test)\n",
    "    errors.append(1-accuracy_score(y_test,pred))\n",
    "\n",
    "end_time=time.time()\n",
    "print(\"Time Taken: {} secs\".format(round(end_time-start_time,3)))\n",
    "\n",
    "plt.plot(range_m,errors)\n",
    "plt.xlabel('Parameter m')\n",
    "plt.ylabel('Test Error')\n",
    "plt.show()"
   ]
  },
  {
   "cell_type": "code",
   "execution_count": 12,
   "id": "0551f7f2",
   "metadata": {},
   "outputs": [
    {
     "data": {
      "text/html": [
       "<div>\n",
       "<style scoped>\n",
       "    .dataframe tbody tr th:only-of-type {\n",
       "        vertical-align: middle;\n",
       "    }\n",
       "\n",
       "    .dataframe tbody tr th {\n",
       "        vertical-align: top;\n",
       "    }\n",
       "\n",
       "    .dataframe thead th {\n",
       "        text-align: right;\n",
       "    }\n",
       "</style>\n",
       "<table border=\"1\" class=\"dataframe\">\n",
       "  <thead>\n",
       "    <tr style=\"text-align: right;\">\n",
       "      <th></th>\n",
       "      <th>Number of Features</th>\n",
       "      <th>Test Error(%)</th>\n",
       "    </tr>\n",
       "  </thead>\n",
       "  <tbody>\n",
       "    <tr>\n",
       "      <th>0</th>\n",
       "      <td>2</td>\n",
       "      <td>8.616944</td>\n",
       "    </tr>\n",
       "    <tr>\n",
       "      <th>1</th>\n",
       "      <td>4</td>\n",
       "      <td>8.472122</td>\n",
       "    </tr>\n",
       "    <tr>\n",
       "      <th>2</th>\n",
       "      <td>6</td>\n",
       "      <td>6.299783</td>\n",
       "    </tr>\n",
       "    <tr>\n",
       "      <th>3</th>\n",
       "      <td>8</td>\n",
       "      <td>6.372194</td>\n",
       "    </tr>\n",
       "    <tr>\n",
       "      <th>4</th>\n",
       "      <td>10</td>\n",
       "      <td>6.661839</td>\n",
       "    </tr>\n",
       "    <tr>\n",
       "      <th>5</th>\n",
       "      <td>15</td>\n",
       "      <td>7.023896</td>\n",
       "    </tr>\n",
       "    <tr>\n",
       "      <th>6</th>\n",
       "      <td>20</td>\n",
       "      <td>6.010138</td>\n",
       "    </tr>\n",
       "    <tr>\n",
       "      <th>7</th>\n",
       "      <td>30</td>\n",
       "      <td>6.589428</td>\n",
       "    </tr>\n",
       "    <tr>\n",
       "      <th>8</th>\n",
       "      <td>40</td>\n",
       "      <td>7.096307</td>\n",
       "    </tr>\n",
       "    <tr>\n",
       "      <th>9</th>\n",
       "      <td>50</td>\n",
       "      <td>6.444605</td>\n",
       "    </tr>\n",
       "  </tbody>\n",
       "</table>\n",
       "</div>"
      ],
      "text/plain": [
       "   Number of Features  Test Error(%)\n",
       "0                   2       8.616944\n",
       "1                   4       8.472122\n",
       "2                   6       6.299783\n",
       "3                   8       6.372194\n",
       "4                  10       6.661839\n",
       "5                  15       7.023896\n",
       "6                  20       6.010138\n",
       "7                  30       6.589428\n",
       "8                  40       7.096307\n",
       "9                  50       6.444605"
      ]
     },
     "execution_count": 12,
     "metadata": {},
     "output_type": "execute_result"
    }
   ],
   "source": [
    "test_error = errors\n",
    "test_error = [100*x for x in test_error]\n",
    "sensitivity = pd.DataFrame(index = range_m,data = test_error, columns = ['Test Error'])\n",
    "modified = sensitivity.reset_index()\n",
    "modified.columns = ['Number of Features','Test Error(%)']\n",
    "modified"
   ]
  },
  {
   "cell_type": "markdown",
   "id": "79e80366",
   "metadata": {},
   "source": [
    "# 5. (c) Plot the OOB (out-of-bag) error and the Test Error against m (Our Implementation of Random Forests and OOB function) "
   ]
  },
  {
   "cell_type": "markdown",
   "id": "353f7cbf",
   "metadata": {},
   "source": [
    "### Here due to Computation Infeasibility we are limiting the number of trees and depth to 5 (on full depth and 100 trees it takes hours to plot the behaviour) but that doesn't affect the sensitivity of Random Forests but accuracy of the model does get affected"
   ]
  },
  {
   "cell_type": "code",
   "execution_count": 15,
   "id": "3ecba658",
   "metadata": {},
   "outputs": [
    {
     "name": "stdout",
     "output_type": "stream",
     "text": [
      "Time Taken: 1314.423 secs\n"
     ]
    },
    {
     "data": {
      "image/png": "[encoded data removed]",
      "text/plain": [
       "<Figure size 432x288 with 1 Axes>"
      ]
     },
     "metadata": {
      "needs_background": "light"
     },
     "output_type": "display_data"
    }
   ],
   "source": [
    "#Took about 38.5 mins to run on my system\n",
    "\n",
    "start_time = time.time()\n",
    "oob_errors=[]\n",
    "test_errors=[]\n",
    "range_m = [2,4,6,8,10,15,20,30,40,50]\n",
    "\n",
    "for m in range_m:\n",
    "    forest = random_forest_algo(train_df,num_trees=5,bootstrap=0.80,max_feat=m,depth=5)\n",
    "    pred = rf_predictions(test_df.drop(57,axis=1),forest)\n",
    "    test_errors.append(1-rf_calculate_accuracy(test_df,pred))\n",
    "    oob_scores = calculate_oob_scores(train_df,n_trees=5,nbootstrap=0.8,max_features=m,max_depth=5)\n",
    "    oob_error = 1 - np.mean(oob_scores)\n",
    "    oob_errors.append(oob_error)\n",
    "    \n",
    "end_time=time.time()\n",
    "print(\"Time Taken: {} secs\".format(round(end_time-start_time,3)))\n",
    "\n",
    "\n",
    "plt.plot(range_m,oob_errors,label='oob_error')\n",
    "plt.plot(range_m,test_errors,label='test_error')\n",
    "plt.xlabel('Parameter m')\n",
    "plt.ylabel('Error')\n",
    "plt.legend()\n",
    "plt.show()"
   ]
  },
  {
   "cell_type": "markdown",
   "id": "9c8d98bf",
   "metadata": {},
   "source": [
    "# Plot the OOB (out-of-bag) error and the Test Error against m (Sklearn's RandomForestClassifier and OOB function)"
   ]
  },
  {
   "cell_type": "code",
   "execution_count": 16,
   "id": "2fdd456b",
   "metadata": {},
   "outputs": [
    {
     "name": "stdout",
     "output_type": "stream",
     "text": [
      "Time Taken: 0.702 secs\n"
     ]
    },
    {
     "data": {
      "image/png": "[encoded data removed]",
      "text/plain": [
       "<Figure size 432x288 with 1 Axes>"
      ]
     },
     "metadata": {
      "needs_background": "light"
     },
     "output_type": "display_data"
    }
   ],
   "source": [
    "start_time = time.time()\n",
    "oob_error=[]\n",
    "test_error=[]\n",
    "range_m = [2,4,6,8,10,15,20,30,40,50]\n",
    "\n",
    "for m in range_m:\n",
    "    rfc=RandomForestClassifier(n_estimators=5,max_features=m,max_depth=5,bootstrap=True,\n",
    "                               max_samples=0.8,oob_score=True,criterion='entropy')\n",
    "    rfc.fit(X_train,y_train)\n",
    "    pred = rfc.predict(X_test)\n",
    "    oob_error.append(1-rfc.oob_score_)\n",
    "    test_error.append(1-accuracy_score(y_test,pred))\n",
    "\n",
    "end_time=time.time()\n",
    "print(\"Time Taken: {} secs\".format(round(end_time-start_time,3)))\n",
    "\n",
    "plt.plot(range_m,oob_error,label='oob_error')\n",
    "plt.plot(range_m,test_error,label='test_error')\n",
    "plt.xlabel('Parameter m')\n",
    "plt.ylabel('Error')\n",
    "plt.legend()\n",
    "plt.show()"
   ]
  },
  {
   "cell_type": "code",
   "execution_count": null,
   "id": "ea34bb80",
   "metadata": {},
   "outputs": [],
   "source": []
  }
 ],
 "metadata": {
  "kernelspec": {
   "display_name": "Python 3",
   "language": "python",
   "name": "python3"
  },
  "language_info": {
   "codemirror_mode": {
    "name": "ipython",
    "version": 3
   },
   "file_extension": ".py",
   "mimetype": "text/x-python",
   "name": "python",
   "nbconvert_exporter": "python",
   "pygments_lexer": "ipython3",
   "version": "3.8.8"
  }
 },
 "nbformat": 4,
 "nbformat_minor": 5
}
